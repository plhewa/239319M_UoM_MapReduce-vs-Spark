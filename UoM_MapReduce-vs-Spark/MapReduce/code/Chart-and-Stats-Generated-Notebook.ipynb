{
  "nbformat": 4,
  "nbformat_minor": 0,
  "metadata": {
    "colab": {
      "provenance": []
    },
    "kernelspec": {
      "name": "python3",
      "display_name": "Python 3"
    },
    "language_info": {
      "name": "python"
    }
  },
  "cells": [
    {
      "cell_type": "code",
      "source": [],
      "metadata": {
        "id": "XDak8ckWGQ3H"
      },
      "execution_count": null,
      "outputs": []
    },
    {
      "cell_type": "code",
      "execution_count": null,
      "metadata": {
        "id": "WwKPzga5FueY"
      },
      "outputs": [],
      "source": [
        "\n",
        "import matplotlib.pyplot as plt\n",
        "import numpy as np"
      ]
    },
    {
      "cell_type": "code",
      "source": [
        "#Plot Running time comparison with repspect to iterations Year wise carrier delay from 2003-2010\n",
        "x = np.arange(5)\n",
        "y1 = [24.847, 15.617, 13.1, 2.285, 2.031]\n",
        "y2 = [14.864, 0.962, 1.110,0.774,0.994]\n",
        "width = 0.40\n",
        "\n",
        "plt.bar(x-0.2, y1, width, color='blue')\n",
        "plt.bar(x+0.2, y2, width, color='purple')\n",
        "plt.xticks(x, ['1', '2', '3', '4', '5'])\n",
        "plt.xlabel(\"Iterations\")\n",
        "plt.ylabel(\"Running Time(s)\")\n",
        "plt.legend([\"Hadoop\", \"Spark\"])\n",
        "plt.show()"
      ],
      "metadata": {
        "colab": {
          "base_uri": "https://localhost:8080/",
          "height": 279
        },
        "id": "GBb3AQCHGcdZ",
        "outputId": "297784fb-7e1f-4ec8-c424-9cc97bdeefad"
      },
      "execution_count": null,
      "outputs": [
        {
          "output_type": "display_data",
          "data": {
            "text/plain": [
              "<Figure size 432x288 with 1 Axes>"
            ],
            "image/png": "[encoded data removed]"
          },
          "metadata": {
            "needs_background": "light"
          }
        }
      ]
    },
    {
      "cell_type": "code",
      "source": [
        "#Plot Running time comparison with repspect to iterations Year wise NAS delay from 2003-2010\n",
        "x = np.arange(5)\n",
        "y1 = [14.866, 7.148, 2.469, 2.097, 1.655]\n",
        "y2 = [0.718, 0.585, 0.592,0.806,0.632]\n",
        "width = 0.40\n",
        "\n",
        "plt.bar(x-0.2, y1, width, color='blue')\n",
        "plt.bar(x+0.2, y2, width, color='purple')\n",
        "plt.xticks(x, ['1', '2', '3', '4', '5'])\n",
        "plt.xlabel(\"Iterations\")\n",
        "plt.ylabel(\"Running Time(s)\")\n",
        "plt.legend([\"Hadoop\", \"Spark\"])\n",
        "plt.show()"
      ],
      "metadata": {
        "colab": {
          "base_uri": "https://localhost:8080/",
          "height": 279
        },
        "id": "NlmjGI_STQw5",
        "outputId": "1eab7a49-bf54-48bf-b2a0-f30a0f0b139d"
      },
      "execution_count": null,
      "outputs": [
        {
          "output_type": "display_data",
          "data": {
            "text/plain": [
              "<Figure size 432x288 with 1 Axes>"
            ],
            "image/png": "[encoded data removed]"
          },
          "metadata": {
            "needs_background": "light"
          }
        }
      ]
    },
    {
      "cell_type": "code",
      "source": [
        "#Plot Running time comparison with repspect to iterations Year wise Weather delay from 2003-2010\n",
        "x = np.arange(5)\n",
        "y1 = [14.639,  7.262, 2.271, 1.822, 6.886]\n",
        "y2 = [0.488, 0.688, 0.516,0.534,0.515]\n",
        "width = 0.40\n",
        "\n",
        "plt.bar(x-0.2, y1, width, color='blue')\n",
        "plt.bar(x+0.2, y2, width, color='purple')\n",
        "plt.xticks(x, ['1', '2', '3', '4', '5'])\n",
        "plt.xlabel(\"Iterations\")\n",
        "plt.ylabel(\"Running Time(s)\")\n",
        "plt.legend([\"Hadoop\", \"Spark\"])\n",
        "plt.show()"
      ],
      "metadata": {
        "colab": {
          "base_uri": "https://localhost:8080/",
          "height": 279
        },
        "id": "6cFPoIIET_IN",
        "outputId": "e0a06e21-5eca-4b9e-bc36-5f4efedf6f00"
      },
      "execution_count": null,
      "outputs": [
        {
          "output_type": "display_data",
          "data": {
            "text/plain": [
              "<Figure size 432x288 with 1 Axes>"
            ],
            "image/png": "[encoded data removed]"
          },
          "metadata": {
            "needs_background": "light"
          }
        }
      ]
    },
    {
      "cell_type": "code",
      "source": [
        "#Plot Running time comparison with repspect to iterations Year wise late aircraft delay from 2003-2010\n",
        "x = np.arange(5)\n",
        "y1 = [10.898,10.65,2.401,2.096,1.677]\n",
        "y2 = [0.372,0.512,0.430,0.349,0.562]\n",
        "width = 0.40\n",
        "\n",
        "plt.bar(x-0.2, y1, width, color='blue')\n",
        "plt.bar(x+0.2, y2, width, color='purple')\n",
        "plt.xticks(x, ['1', '2', '3', '4', '5'])\n",
        "plt.xlabel(\"Iterations\")\n",
        "plt.ylabel(\"Running Time(s)\")\n",
        "plt.legend([\"Hadoop\", \"Spark\"])\n",
        "plt.show()"
      ],
      "metadata": {
        "colab": {
          "base_uri": "https://localhost:8080/",
          "height": 279
        },
        "id": "E-XL8O1CUpoZ",
        "outputId": "fee3981e-180b-4871-ee2e-2e1865d1fa26"
      },
      "execution_count": null,
      "outputs": [
        {
          "output_type": "display_data",
          "data": {
            "text/plain": [
              "<Figure size 432x288 with 1 Axes>"
            ],
            "image/png": "[encoded data removed]"
          },
          "metadata": {
            "needs_background": "light"
          }
        }
      ]
    },
    {
      "cell_type": "code",
      "source": [
        "#Plot Running time comparison with repspect to iterations Year wise security delay from 2003-2010\n",
        "x = np.arange(5)\n",
        "y1 = [10.936,1.875,2.186, 1.956, 1.946]\n",
        "y2 = [0.571,0.436,0.413, 0.421,0.419]\n",
        "width = 0.40\n",
        "\n",
        "plt.bar(x-0.2, y1, width, color='blue')\n",
        "plt.bar(x+0.2, y2, width, color='purple')\n",
        "plt.xticks(x, ['1', '2', '3', '4', '5'])\n",
        "plt.xlabel(\"Iterations\")\n",
        "plt.ylabel(\"Running Time(s)\")\n",
        "plt.legend([\"Hadoop\", \"Spark\"])\n",
        "plt.show()"
      ],
      "metadata": {
        "id": "ICgYLaG1KUW2",
        "colab": {
          "base_uri": "https://localhost:8080/",
          "height": 279
        },
        "outputId": "0b71f6e9-7fef-418c-a401-e8ebd62c335d"
      },
      "execution_count": null,
      "outputs": [
        {
          "output_type": "display_data",
          "data": {
            "text/plain": [
              "<Figure size 432x288 with 1 Axes>"
            ],
            "image/png": "[encoded data removed]"
          },
          "metadata": {
            "needs_background": "light"
          }
        }
      ]
    },
    {
      "cell_type": "code",
      "source": [
        "import pandas as pd\n",
        "# data frame for 1st iteration time\n",
        "# Create a data frame\n",
        "df = pd.DataFrame({\n",
        "    'Time taken by query(in sec)': ['carrier delay quey ', 'NAS delay quey', 'Weather delay quey','late aircraf delay quey','security delay quey'],\n",
        "    'HiveQL': [24.847, 14.866, 14.639,10.898,10.936],\n",
        "    'Spark-SQL': [14.864, 0.718, 0.488,0.372,0.571]\n",
        "})\n",
        "\n",
        "# Display the data frame\n",
        "print(df)"
      ],
      "metadata": {
        "id": "b4CSCB3K1C7y",
        "colab": {
          "base_uri": "https://localhost:8080/"
        },
        "outputId": "c4c0facf-f73f-48fb-cb14-c3cb10ad6cfc"
      },
      "execution_count": null,
      "outputs": [
        {
          "output_type": "stream",
          "name": "stdout",
          "text": [
            "  Time taken by query(in sec)  HiveQL  Spark-SQL\n",
            "0         carrier delay quey   24.847     14.864\n",
            "1              NAS delay quey  14.866      0.718\n",
            "2          Weather delay quey  14.639      0.488\n",
            "3     late aircraf delay quey  10.898      0.372\n",
            "4         security delay quey  10.936      0.571\n"
          ]
        }
      ]
    },
    {
      "cell_type": "code",
      "source": [
        "import pandas as pd\n",
        "# data frame for average iteration time\n",
        "# Create a data frame\n",
        "\n",
        "average_carrier_delay_hive_quey_numbers = round(sum([24.847, 15.617, 13.1, 2.285, 2.031])/5,3)\n",
        "average_carrier_delay_spark_sql_quey_numbers = round(sum([14.864, 0.962, 1.110,0.774,0.994])/5,3)\n",
        "\n",
        "average_NAS_delay_hive_quey_numbers = round(sum([14.866, 7.148, 2.469, 2.097, 1.655])/5,3)\n",
        "average_NAS_delay_spark_sql_quey_numbers = round(sum([0.718, 0.585, 0.592,0.806,0.632])/5,3)\n",
        "\n",
        "average_Weather_delay_hive_quey_numbers  = round(sum([14.639,  7.262, 2.271, 1.822, 6.886])/5,3)\n",
        "average_Weather_delay_spark_sql_quey_numbers = round(sum([0.488, 0.688, 0.516,0.534,0.515])/5,3)\n",
        "\n",
        "average_late_aircraf_delay_hive_quey_numbers = round(sum([10.898,10.65,2.401,2.096,1.677])/5,3)\n",
        "average_late_aircraf_delay_spark_sql_quey_numbers = round(sum([0.372,0.512,0.430,0.349,0.562])/5,3)\n",
        "\n",
        "average_security_delay_hive_quey_numbers = round(sum([10.936,1.875,2.186, 1.956, 1.946])/5,3)\n",
        "average_security_delay_spark_sql_quey_numbers = round(sum([0.571,0.436,0.413, 0.421,0.419])/5,3)\n",
        "\n",
        "\n",
        "df = pd.DataFrame({\n",
        "    'Time taken by query(in sec)': ['carrier delay quey ', 'NAS delay quey', 'Weather delay quey','late aircraf delay quey','security delay quey'],\n",
        "    'HiveQL': [average_carrier_delay_hive_quey_numbers,average_NAS_delay_hive_quey_numbers, average_Weather_delay_hive_quey_numbers,average_late_aircraf_delay_hive_quey_numbers,average_security_delay_hive_quey_numbers],\n",
        "    'Spark-SQL': [average_carrier_delay_spark_sql_quey_numbers,average_NAS_delay_spark_sql_quey_numbers, average_Weather_delay_spark_sql_quey_numbers,average_late_aircraf_delay_spark_sql_quey_numbers,average_security_delay_spark_sql_quey_numbers]\n",
        "})\n",
        "\n",
        "# Display the data frame\n",
        "print(df)"
      ],
      "metadata": {
        "colab": {
          "base_uri": "https://localhost:8080/"
        },
        "id": "dYTc8LJ3mIQN",
        "outputId": "ec65a8b9-781d-41db-8230-11063fcaa41c"
      },
      "execution_count": null,
      "outputs": [
        {
          "output_type": "stream",
          "name": "stdout",
          "text": [
            "  Time taken by query(in sec)  HiveQL  Spark-SQL\n",
            "0         carrier delay quey   11.576      3.741\n",
            "1              NAS delay quey   5.647      0.667\n",
            "2          Weather delay quey   6.576      0.548\n",
            "3     late aircraf delay quey   5.544      0.445\n",
            "4         security delay quey   3.780      0.452\n"
          ]
        }
      ]
    },
    {
      "cell_type": "code",
      "source": [
        "import numpy as np\n",
        "import matplotlib.pyplot as plt\n",
        "\n",
        "average_carrier_delay_hive_quey_numbers = round(sum([24.847, 15.617, 13.1, 2.285, 2.031])/5,3)\n",
        "average_carrier_delay_spark_sql_quey_numbers = round(sum([14.864, 0.962, 1.110,0.774,0.994])/5,3)\n",
        "\n",
        "average_NAS_delay_hive_quey_numbers = round(sum([14.866, 7.148, 2.469, 2.097, 1.655])/5,3)\n",
        "average_NAS_delay_spark_sql_quey_numbers = round(sum([0.718, 0.585, 0.592,0.806,0.632])/5,3)\n",
        "\n",
        "average_Weather_delay_hive_quey_numbers  = round(sum([14.639,  7.262, 2.271, 1.822, 6.886])/5,3)\n",
        "average_Weather_delay_spark_sql_quey_numbers = round(sum([0.488, 0.688, 0.516,0.534,0.515])/5,3)\n",
        "\n",
        "average_late_aircraf_delay_hive_quey_numbers = round(sum([10.898,10.65,2.401,2.096,1.677])/5,3)\n",
        "average_late_aircraf_delay_spark_sql_quey_numbers = round(sum([0.372,0.512,0.430,0.349,0.562])/5,3)\n",
        "\n",
        "average_security_delay_hive_quey_numbers = round(sum([10.936,1.875,2.186, 1.956, 1.946])/5,3)\n",
        "average_security_delay_spark_sql_quey_numbers = round(sum([0.571,0.436,0.413, 0.421,0.419])/5,3)\n",
        "\n",
        "x = np.arange(5)\n",
        "y1 = [average_carrier_delay_hive_quey_numbers,average_NAS_delay_hive_quey_numbers, average_Weather_delay_hive_quey_numbers,average_late_aircraf_delay_hive_quey_numbers,average_security_delay_hive_quey_numbers]\n",
        "y2 = [average_carrier_delay_spark_sql_quey_numbers,average_NAS_delay_spark_sql_quey_numbers,average_Weather_delay_spark_sql_quey_numbers,average_late_aircraf_delay_spark_sql_quey_numbers,average_security_delay_spark_sql_quey_numbers]\n",
        "width = 0.40\n",
        "\n",
        "fig, ax = plt.subplots()\n",
        "ax.bar(x - width/2, y1, width, color='blue', label='Hadoop')\n",
        "ax.bar(x + width/2, y2, width, color='purple', label='Spark')\n",
        "\n",
        "# Add labels on top of bars\n",
        "for i in range(len(x)):\n",
        "    ax.text(x[i] - width/2, y1[i] + 0.1, y1[i], ha='center', va='bottom')\n",
        "    ax.text(x[i] + width/2, y2[i] + 0.1, y2[i], ha='center', va='bottom')\n",
        "\n",
        "ax.set_xticks(x)\n",
        "ax.set_xticklabels(['carrier', 'NAS', 'Weather', 'late-aircraf', 'security'])\n",
        "ax.set_xlabel(\"Delay query type\")\n",
        "ax.set_ylabel(\"Average Time Taken (s)\")\n",
        "ax.set_title(\"Time taken by\")\n",
        "ax.legend()\n",
        "\n",
        "plt.show()"
      ],
      "metadata": {
        "colab": {
          "base_uri": "https://localhost:8080/",
          "height": 295
        },
        "id": "kR8K4ebEvBt_",
        "outputId": "db118b63-1ee2-49d3-baa7-9c0298f71bab"
      },
      "execution_count": null,
      "outputs": [
        {
          "output_type": "display_data",
          "data": {
            "text/plain": [
              "<Figure size 432x288 with 1 Axes>"
            ],
            "image/png": "[encoded data removed]"
          },
          "metadata": {
            "needs_background": "light"
          }
        }
      ]
    }
  ]
}